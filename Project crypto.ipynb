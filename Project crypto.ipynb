{
 "cells": [
  {
   "cell_type": "code",
   "execution_count": 1,
   "id": "73b231ed",
   "metadata": {},
   "outputs": [
    {
     "name": "stdout",
     "output_type": "stream",
     "text": [
      "Requirement already satisfied: pycryptodome in c:\\users\\user\\anaconda3\\lib\\site-packages (3.19.0)\n",
      "Note: you may need to restart the kernel to use updated packages.\n"
     ]
    }
   ],
   "source": [
    "pip install pycryptodome "
   ]
  },
  {
   "cell_type": "code",
   "execution_count": 6,
   "id": "6f542b8c",
   "metadata": {},
   "outputs": [
    {
     "name": "stdout",
     "output_type": "stream",
     "text": [
      "Private key (Hala): <cryptography.hazmat.primitives.asymmetric.dh.DHPrivateNumbers object at 0x0000027D2EF32810>\n",
      "Private key (Zainab): <cryptography.hazmat.primitives.asymmetric.dh.DHPrivateNumbers object at 0x0000027D2EF91F50>\n",
      "Public key (Hala): <cryptography.hazmat.primitives.asymmetric.dh.DHPublicNumbers object at 0x0000027D29718A10>\n",
      "Public key (Zainab): <cryptography.hazmat.primitives.asymmetric.dh.DHPublicNumbers object at 0x0000027D2EF36E50>\n",
      "Shared secret key: b\"1\\xc5=`\\xf7\\xda\\xaf\\x8d9:\\x0c\\x8ab\\xa5\\x95\\xde\\x90\\x10X;\\xa2\\xa5\\x03N\\xe0\\xa3\\xb1<\\xa2<Q\\xaes\\x84\\xa3\\xbdaS\\xfc\\xe3B_\\xaaTu\\x88\\xcaE3\\xb8a\\xaa\\xf1\\x12{\\xbcF*\\xfd\\xea_\\xd2p\\xd7\\xe0<\\x7f\\xaf\\xbbL'y\\xa2}-\\xd2\\x14\\xe6;X\\t\\xcey\\x8b\\x1ca\\xe1\\xb0\\x01A*\\xddR\\xe3%\\x9fU'1\\xe53\\x8d\\x03kF\\xd1\\xc58H\\r\\xf7\\x8cvy\\xdc\\x0eK\\xb7\\xb2\\xd5\\x1b@\\xf2\\xdb \\xa6\\x92\\xf1\"\n"
     ]
    }
   ],
   "source": [
    "import base64\n",
    "import os\n",
    "from Crypto.Cipher import AES\n",
    "from cryptography.hazmat.primitives.asymmetric import(\n",
    "    dh)\n",
    "from Crypto.Random import get_random_bytes\n",
    "from Crypto.Util.Padding import pad, unpad\n",
    "\n",
    "#generate the p and g\n",
    "parameters = dh.generate_parameters(generator=2, key_size=1024)\n",
    "\n",
    "#private key \n",
    "private_key_Hala = parameters.generate_private_key()\n",
    "private_key_Zainab = parameters.generate_private_key()\n",
    "print(\"Private key (Hala):\", private_key_Hala.private_numbers())\n",
    "print(\"Private key (Zainab):\", private_key_Zainab.private_numbers())\n",
    "\n",
    "\n",
    "#public key \n",
    "public_key_Hala = private_key_Hala.public_key()\n",
    "public_key_Zainab = private_key_Zainab.public_key()\n",
    "print(\"Public key (Hala):\", public_key_Hala.public_numbers())\n",
    "print(\"Public key (Zainab):\", public_key_Zainab.public_numbers())\n",
    "\n",
    "\n",
    "#share key between zainab and Hala\n",
    "shared_secret_key = private_key_Hala.exchange(public_key_Zainab)\n",
    "print(\"Shared secret key:\", shared_secret_key)\n"
   ]
  },
  {
   "cell_type": "code",
   "execution_count": 8,
   "id": "b9d5c6ae",
   "metadata": {},
   "outputs": [
    {
     "name": "stdout",
     "output_type": "stream",
     "text": [
      "Encrypted data: ZNJDji+03j7gByXf4MajRpUeH+5wy9ObDW8NakhYmjR2/H71ODd9ySsbeMbe5zrK\n"
     ]
    }
   ],
   "source": [
    "# Encrypt the file using AES-128 in CBC mode 128=16*8\n",
    "def encrypt_file(file_path, key):\n",
    "    aes_key = key[:16]  # Extract 16 bytes for AES-128\n",
    "    cipher = AES.new(aes_key, AES.MODE_CBC)\n",
    "    iv = cipher.iv  # Generate IV for CBC mode\n",
    "    with open(file_path, 'rb') as f:\n",
    "        plaintext = f.read()\n",
    "    padded_plaintext = pad(plaintext, AES.block_size)\n",
    "    ciphertext = cipher.encrypt(padded_plaintext)\n",
    "    encrypted_data = iv + ciphertext # iv old cipher text\n",
    "    return base64.b64encode(encrypted_data).decode('utf-8')\n",
    "\n",
    "# Decrypt the file using AES-128 in CBC mode\n",
    "def decrypt_file(encrypted_data, key):\n",
    "    encrypted_data = base64.b64decode(encrypted_data)  # Decode Base64\n",
    "    aes_key = key[:16]  # Extract 16 bytes for AES-128\n",
    "    iv = encrypted_data[:AES.block_size]\n",
    "    ciphertext = encrypted_data[AES.block_size:]\n",
    "    cipher = AES.new(aes_key, AES.MODE_CBC, iv)\n",
    "    decrypted_data = unpad(cipher.decrypt(ciphertext), AES.block_size)\n",
    "    return decrypted_data\n",
    "\n",
    "# Simulate file storage transaction from Hala to Zainab\n",
    "file_path = \"zainab.txt\"  # Replace with the actual file path\n",
    "encrypted_data = encrypt_file(file_path, shared_secret_key)\n",
    "\n",
    "# Send encrypted data to Zainab (simulated)\n",
    "print(f\"Encrypted data: {encrypted_data}\")\n",
    "\n",
    "# Decrypt data on Zainab's side\n",
    "decrypted_data = decrypt_file(encrypted_data, shared_secret_key)\n",
    "\n",
    "# Write decrypted data to a new file\n",
    "with open(\"decrypted_file\", \"wb\") as f:\n",
    "    f.write(decrypted_data)\n",
    "    \n"
   ]
  }
 ],
 "metadata": {
  "kernelspec": {
   "display_name": "Python 3 (ipykernel)",
   "language": "python",
   "name": "python3"
  },
  "language_info": {
   "codemirror_mode": {
    "name": "ipython",
    "version": 3
   },
   "file_extension": ".py",
   "mimetype": "text/x-python",
   "name": "python",
   "nbconvert_exporter": "python",
   "pygments_lexer": "ipython3",
   "version": "3.11.5"
  }
 },
 "nbformat": 4,
 "nbformat_minor": 5
}
